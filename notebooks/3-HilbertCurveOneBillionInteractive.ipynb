{
 "cells": [
  {
   "cell_type": "markdown",
   "metadata": {},
   "source": [
    "## Faster interactive exploration of 1 billion points\n",
    "This example applies this `HilbertFrame2D` to the 1 billion point Open Street Maps dataset.\n",
    "\n",
    "First the dataset must be preprocessed.  This is an intesive operation that took ~30 minutes on a 2015 Macbook Pro with 16GB of RAM.  It also seems to require something like 20GB of free disk space available in order to perform the shuffle sort of the Hilbert distance index."
   ]
  },
  {
   "cell_type": "code",
   "execution_count": null,
   "metadata": {},
   "outputs": [],
   "source": [
    "import dask\n",
    "import datashader as ds\n",
    "import datashader.transfer_functions as tf\n",
    "import dask.dataframe as dd\n",
    "import numpy as np\n",
    "import hilbert_frame as hf"
   ]
  },
  {
   "cell_type": "code",
   "execution_count": null,
   "metadata": {},
   "outputs": [],
   "source": [
    "df = dd.io.parquet.read_parquet('../../../notebook/datashader_dev/datashader-examples/data/osm-1billion.snappy.parq/')"
   ]
  },
  {
   "cell_type": "code",
   "execution_count": null,
   "metadata": {},
   "outputs": [],
   "source": [
    "%%time\n",
    "hframe = hf.HilbertFrame2D.from_dataframe(df=df,\n",
    "                                          filename='osm-1billion.parquet',\n",
    "                                          x='x',\n",
    "                                          y='y',\n",
    "                                          shuffle='disk',\n",
    "                                          compression='snappy',\n",
    "                                          engine='fastparquet')"
   ]
  },
  {
   "cell_type": "markdown",
   "metadata": {},
   "source": [
    "Load the `HilbertFrame2D` with `persist=True` to bring the dataframe into memory"
   ]
  },
  {
   "cell_type": "code",
   "execution_count": null,
   "metadata": {},
   "outputs": [],
   "source": [
    "hframe = hf.HilbertFrame2D(filename='osm-1billion.parquet', persist=True)"
   ]
  },
  {
   "cell_type": "markdown",
   "metadata": {},
   "source": [
    "Create a Bokeh `InteractiveImage` for exploring the dataset, and notice how much faster the render time is when zoomed in to detailed regions around the world."
   ]
  },
  {
   "cell_type": "code",
   "execution_count": null,
   "metadata": {},
   "outputs": [],
   "source": [
    "bound = 20026376.39\n",
    "bounds = dict(x_range = (-bound, bound), y_range = (int(-bound*0.4), int(bound*0.6)))\n",
    "plot_width = 900\n",
    "plot_height = int(plot_width*0.5)"
   ]
  },
  {
   "cell_type": "code",
   "execution_count": null,
   "metadata": {},
   "outputs": [],
   "source": [
    "def create_image(use_hilbert, x_range, y_range, w, h, name=None):\n",
    "    cvs = ds.Canvas(plot_width=w, plot_height=h, x_range=x_range, y_range=y_range)\n",
    "    df_cb = hframe.range_query(x_range, y_range)\n",
    "    agg = cvs.points(df_cb, 'x', 'y', ds.count())\n",
    "    img = tf.shade(agg)\n",
    "    return img"
   ]
  },
  {
   "cell_type": "code",
   "execution_count": null,
   "metadata": {},
   "outputs": [],
   "source": [
    "from datashader.bokeh_ext import InteractiveImage\n",
    "import bokeh.plotting as bp\n",
    "from functools import partial\n",
    "\n",
    "bp.output_notebook()\n",
    "p = bp.figure(tools='pan,wheel_zoom,reset,box_zoom', x_range=bounds['x_range'], y_range=bounds['y_range'],\n",
    "              plot_width=plot_width, plot_height=plot_height)\n",
    "\n",
    "InteractiveImage(p, partial(create_image, True))"
   ]
  },
  {
   "cell_type": "markdown",
   "metadata": {},
   "source": [
    "### Interaction GIF\n",
    "![](osm-one-billion.gif)"
   ]
  },
  {
   "cell_type": "code",
   "execution_count": null,
   "metadata": {},
   "outputs": [],
   "source": []
  }
 ],
 "metadata": {
  "kernelspec": {
   "display_name": "Python 3",
   "language": "python",
   "name": "python3"
  },
  "language_info": {
   "codemirror_mode": {
    "name": "ipython",
    "version": 3
   },
   "file_extension": ".py",
   "mimetype": "text/x-python",
   "name": "python",
   "nbconvert_exporter": "python",
   "pygments_lexer": "ipython3",
   "version": "3.6.8"
  }
 },
 "nbformat": 4,
 "nbformat_minor": 2
}
